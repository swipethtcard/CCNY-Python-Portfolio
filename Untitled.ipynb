{
 "cells": [
  {
   "cell_type": "code",
   "execution_count": 1,
   "id": "7616a813-48e2-4e8d-a3d6-ffcb6aeb5e96",
   "metadata": {},
   "outputs": [],
   "source": [
    "customer_data = [\n",
    "    [1, 'Ella','emily@example.com'],\n",
    "    [2, 'david','michael@example.com'],\n",
    "    [3, 'zachary','sarah@example.com'],\n",
    "    [4, 'alice','john@example.com'],\n",
    "    [5, 'finn','john@example.com'],\n",
    "    [6, 'violet','alice@example.com']\n",
    "]"
   ]
  },
  {
   "cell_type": "code",
   "execution_count": 3,
   "id": "8d6deb41-d77c-4109-850b-521f4c28f3d8",
   "metadata": {},
   "outputs": [],
   "source": [
    "import pandas as pd"
   ]
  },
  {
   "cell_type": "code",
   "execution_count": 5,
   "id": "7c29eab2-cc3a-42d6-bd69-1b33fff3c6ad",
   "metadata": {},
   "outputs": [],
   "source": [
    "customer_data_columns = ['customer id','name','email']"
   ]
  },
  {
   "cell_type": "code",
   "execution_count": 9,
   "id": "dc6771f0-9317-4548-ae79-3908356746e3",
   "metadata": {},
   "outputs": [],
   "source": [
    "df = pd.DataFrame(data=customer_data, columns=customer_data_columns)"
   ]
  },
  {
   "cell_type": "code",
   "execution_count": 11,
   "id": "b84e82ad-4728-47da-8da9-405fc3dfdcd2",
   "metadata": {},
   "outputs": [
    {
     "data": {
      "text/html": [
       "<div>\n",
       "<style scoped>\n",
       "    .dataframe tbody tr th:only-of-type {\n",
       "        vertical-align: middle;\n",
       "    }\n",
       "\n",
       "    .dataframe tbody tr th {\n",
       "        vertical-align: top;\n",
       "    }\n",
       "\n",
       "    .dataframe thead th {\n",
       "        text-align: right;\n",
       "    }\n",
       "</style>\n",
       "<table border=\"1\" class=\"dataframe\">\n",
       "  <thead>\n",
       "    <tr style=\"text-align: right;\">\n",
       "      <th></th>\n",
       "      <th>customer id</th>\n",
       "      <th>name</th>\n",
       "      <th>email</th>\n",
       "    </tr>\n",
       "  </thead>\n",
       "  <tbody>\n",
       "    <tr>\n",
       "      <th>0</th>\n",
       "      <td>1</td>\n",
       "      <td>Ella</td>\n",
       "      <td>emily@example.com</td>\n",
       "    </tr>\n",
       "    <tr>\n",
       "      <th>1</th>\n",
       "      <td>2</td>\n",
       "      <td>david</td>\n",
       "      <td>michael@example.com</td>\n",
       "    </tr>\n",
       "    <tr>\n",
       "      <th>2</th>\n",
       "      <td>3</td>\n",
       "      <td>zachary</td>\n",
       "      <td>sarah@example.com</td>\n",
       "    </tr>\n",
       "    <tr>\n",
       "      <th>3</th>\n",
       "      <td>4</td>\n",
       "      <td>alice</td>\n",
       "      <td>john@example.com</td>\n",
       "    </tr>\n",
       "    <tr>\n",
       "      <th>4</th>\n",
       "      <td>5</td>\n",
       "      <td>finn</td>\n",
       "      <td>john@example.com</td>\n",
       "    </tr>\n",
       "    <tr>\n",
       "      <th>5</th>\n",
       "      <td>6</td>\n",
       "      <td>violet</td>\n",
       "      <td>alice@example.com</td>\n",
       "    </tr>\n",
       "  </tbody>\n",
       "</table>\n",
       "</div>"
      ],
      "text/plain": [
       "   customer id     name                email\n",
       "0            1     Ella    emily@example.com\n",
       "1            2    david  michael@example.com\n",
       "2            3  zachary    sarah@example.com\n",
       "3            4    alice     john@example.com\n",
       "4            5     finn     john@example.com\n",
       "5            6   violet    alice@example.com"
      ]
     },
     "execution_count": 11,
     "metadata": {},
     "output_type": "execute_result"
    }
   ],
   "source": [
    "df"
   ]
  },
  {
   "cell_type": "code",
   "execution_count": 15,
   "id": "26baad52-1ade-4af7-a9e7-6a8cd7090cb5",
   "metadata": {},
   "outputs": [],
   "source": [
    "df.drop_duplicates(subset='email', inplace=True)"
   ]
  },
  {
   "cell_type": "code",
   "execution_count": 17,
   "id": "53f72bca-db7d-45c4-bb5f-21a3ebec0ddd",
   "metadata": {},
   "outputs": [
    {
     "data": {
      "text/html": [
       "<div>\n",
       "<style scoped>\n",
       "    .dataframe tbody tr th:only-of-type {\n",
       "        vertical-align: middle;\n",
       "    }\n",
       "\n",
       "    .dataframe tbody tr th {\n",
       "        vertical-align: top;\n",
       "    }\n",
       "\n",
       "    .dataframe thead th {\n",
       "        text-align: right;\n",
       "    }\n",
       "</style>\n",
       "<table border=\"1\" class=\"dataframe\">\n",
       "  <thead>\n",
       "    <tr style=\"text-align: right;\">\n",
       "      <th></th>\n",
       "      <th>customer id</th>\n",
       "      <th>name</th>\n",
       "      <th>email</th>\n",
       "    </tr>\n",
       "  </thead>\n",
       "  <tbody>\n",
       "    <tr>\n",
       "      <th>0</th>\n",
       "      <td>1</td>\n",
       "      <td>Ella</td>\n",
       "      <td>emily@example.com</td>\n",
       "    </tr>\n",
       "    <tr>\n",
       "      <th>1</th>\n",
       "      <td>2</td>\n",
       "      <td>david</td>\n",
       "      <td>michael@example.com</td>\n",
       "    </tr>\n",
       "    <tr>\n",
       "      <th>2</th>\n",
       "      <td>3</td>\n",
       "      <td>zachary</td>\n",
       "      <td>sarah@example.com</td>\n",
       "    </tr>\n",
       "    <tr>\n",
       "      <th>3</th>\n",
       "      <td>4</td>\n",
       "      <td>alice</td>\n",
       "      <td>john@example.com</td>\n",
       "    </tr>\n",
       "    <tr>\n",
       "      <th>5</th>\n",
       "      <td>6</td>\n",
       "      <td>violet</td>\n",
       "      <td>alice@example.com</td>\n",
       "    </tr>\n",
       "  </tbody>\n",
       "</table>\n",
       "</div>"
      ],
      "text/plain": [
       "   customer id     name                email\n",
       "0            1     Ella    emily@example.com\n",
       "1            2    david  michael@example.com\n",
       "2            3  zachary    sarah@example.com\n",
       "3            4    alice     john@example.com\n",
       "5            6   violet    alice@example.com"
      ]
     },
     "execution_count": 17,
     "metadata": {},
     "output_type": "execute_result"
    }
   ],
   "source": [
    "df"
   ]
  },
  {
   "cell_type": "markdown",
   "id": "d46334fd-2663-4cf4-b552-f20761421e9e",
   "metadata": {},
   "source": [
    "## ^checkpoint:\n",
    "`.drop_duplicates()` removes the rows with repeated occurances of a value. \n",
    "`.drop_duplicates()` takes in the `subset=` which is the column you want to drop duplicates for and `inplace=true` will make sure that the filtering happens on your original table. "
   ]
  },
  {
   "cell_type": "code",
   "execution_count": 20,
   "id": "198669c2-491c-4244-b25e-c82679062def",
   "metadata": {},
   "outputs": [],
   "source": [
    "student_data = [\n",
    "    [1, 'Ella','emily@example.com'],\n",
    "    [2, 'david','michael@example.com'],\n",
    "    [3, None,'sarah@example.com'],\n",
    "    [4, 'alice','john@example.com'],\n",
    "    [5, None,'john@example.com'],\n",
    "    [6, 'violet','alice@example.com']\n",
    "]"
   ]
  },
  {
   "cell_type": "code",
   "execution_count": 22,
   "id": "2abe5c30-e117-4862-a2c9-5b9052ee4806",
   "metadata": {},
   "outputs": [],
   "source": [
    "student_data_columns=['student id','name','email']"
   ]
  },
  {
   "cell_type": "code",
   "execution_count": 24,
   "id": "5c736baa-0f9d-4090-8e90-5e9401aa5279",
   "metadata": {},
   "outputs": [],
   "source": [
    "df2=pd.DataFrame(data=student_data, columns=student_data_columns)"
   ]
  },
  {
   "cell_type": "code",
   "execution_count": 26,
   "id": "54924e1e-1eb2-4eff-b320-f882d08e6dff",
   "metadata": {},
   "outputs": [
    {
     "data": {
      "text/html": [
       "<div>\n",
       "<style scoped>\n",
       "    .dataframe tbody tr th:only-of-type {\n",
       "        vertical-align: middle;\n",
       "    }\n",
       "\n",
       "    .dataframe tbody tr th {\n",
       "        vertical-align: top;\n",
       "    }\n",
       "\n",
       "    .dataframe thead th {\n",
       "        text-align: right;\n",
       "    }\n",
       "</style>\n",
       "<table border=\"1\" class=\"dataframe\">\n",
       "  <thead>\n",
       "    <tr style=\"text-align: right;\">\n",
       "      <th></th>\n",
       "      <th>student id</th>\n",
       "      <th>name</th>\n",
       "      <th>email</th>\n",
       "    </tr>\n",
       "  </thead>\n",
       "  <tbody>\n",
       "    <tr>\n",
       "      <th>0</th>\n",
       "      <td>1</td>\n",
       "      <td>Ella</td>\n",
       "      <td>emily@example.com</td>\n",
       "    </tr>\n",
       "    <tr>\n",
       "      <th>1</th>\n",
       "      <td>2</td>\n",
       "      <td>david</td>\n",
       "      <td>michael@example.com</td>\n",
       "    </tr>\n",
       "    <tr>\n",
       "      <th>2</th>\n",
       "      <td>3</td>\n",
       "      <td>None</td>\n",
       "      <td>sarah@example.com</td>\n",
       "    </tr>\n",
       "    <tr>\n",
       "      <th>3</th>\n",
       "      <td>4</td>\n",
       "      <td>alice</td>\n",
       "      <td>john@example.com</td>\n",
       "    </tr>\n",
       "    <tr>\n",
       "      <th>4</th>\n",
       "      <td>5</td>\n",
       "      <td>None</td>\n",
       "      <td>john@example.com</td>\n",
       "    </tr>\n",
       "    <tr>\n",
       "      <th>5</th>\n",
       "      <td>6</td>\n",
       "      <td>violet</td>\n",
       "      <td>alice@example.com</td>\n",
       "    </tr>\n",
       "  </tbody>\n",
       "</table>\n",
       "</div>"
      ],
      "text/plain": [
       "   student id    name                email\n",
       "0           1    Ella    emily@example.com\n",
       "1           2   david  michael@example.com\n",
       "2           3    None    sarah@example.com\n",
       "3           4   alice     john@example.com\n",
       "4           5    None     john@example.com\n",
       "5           6  violet    alice@example.com"
      ]
     },
     "execution_count": 26,
     "metadata": {},
     "output_type": "execute_result"
    }
   ],
   "source": [
    "df2"
   ]
  },
  {
   "cell_type": "markdown",
   "id": "2e137d10-9cdd-40b4-bc34-5e576327817c",
   "metadata": {},
   "source": [
    "# ^checkpoint \n",
    "`.dropna()` used to remove the rows that have no values for a certain column"
   ]
  },
  {
   "cell_type": "code",
   "execution_count": null,
   "id": "2bd990d8-b22f-48d7-9406-ab96441afc48",
   "metadata": {},
   "outputs": [],
   "source": []
  }
 ],
 "metadata": {
  "kernelspec": {
   "display_name": "Python 3 (ipykernel)",
   "language": "python",
   "name": "python3"
  },
  "language_info": {
   "codemirror_mode": {
    "name": "ipython",
    "version": 3
   },
   "file_extension": ".py",
   "mimetype": "text/x-python",
   "name": "python",
   "nbconvert_exporter": "python",
   "pygments_lexer": "ipython3",
   "version": "3.12.4"
  }
 },
 "nbformat": 4,
 "nbformat_minor": 5
}
