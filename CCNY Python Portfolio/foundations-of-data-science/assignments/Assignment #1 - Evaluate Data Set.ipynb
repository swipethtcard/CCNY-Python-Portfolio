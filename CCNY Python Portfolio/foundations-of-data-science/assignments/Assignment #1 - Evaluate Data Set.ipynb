{
 "cells": [
  {
   "cell_type": "markdown",
   "id": "4256dc96",
   "metadata": {},
   "source": [
    "# Assignment #1: Evaluate Data Set\n",
    "\n",
    "In your first graded assignment for this course, you will find and evaluate a data set on a topic of your choosing. You will be given specific questions related to the data set, and you will also be tasked with importing the data from your data set into your Jupyter Notebook environment. \n",
    "\n",
    "## Choose a Broad Topic\n",
    "\n",
    "First, choose a topic of interest to you, such as a specific social issue, a political or cultural trend, a community, or a hobby or personal interest. Ideally, it should be something relatively broad that society or culture is having some sort of conversation about, or which many people think about on a regular basis. Possible examples might be:\n",
    "\n",
    "- Housing and rental prices in New York City\n",
    "- A popular genre of music\n",
    "- A sport\n",
    "- Food prices\n",
    "- Crime\n",
    "- Government spending\n",
    "- Popularity of movies or TV shows \n",
    "- Bestselling books\n",
    "\n",
    "## Find a Data Set\n",
    "\n",
    "Search for terms related to your topic on Google, both generally and by adding specific names of websites where data will commonly be found. The following websites are frequently places to find data sets, and it sometimes makes sense to both search directly on the site and to do regular Google searches with the site name:\n",
    "\n",
    "- [Google Data Set Search](https://datasetsearch.research.google.com/)\n",
    "- [GitHub](https://github.com/)\n",
    "- [Kaggle](https://www.kaggle.com/)\n",
    "- [Data.gov](https://www.data.gov/)\n",
    "\n",
    "For example, if your topic is bestselling books, you might try these searches on Google:\n",
    "\n",
    "- bestselling books data set\n",
    "- bestselling books data set kaggle\n",
    "- bestselling books data set github\n",
    "- bestselling books data set \n",
    "\n",
    "You're not likely to find bestselling books data on data.gov, but you might find a lot of info related to health, the economy, and demographics, since that's what the government is most concerned about."
   ]
  },
  {
   "cell_type": "markdown",
   "id": "1c1a8105",
   "metadata": {},
   "source": [
    "-----"
   ]
  },
  {
   "cell_type": "markdown",
   "id": "9be8caee",
   "metadata": {},
   "source": [
    "What is your topic? (Enter responses to questions like these in the cell provided below.)"
   ]
  },
  {
   "cell_type": "markdown",
   "id": "c9702a5b",
   "metadata": {},
   "source": [
    "U.S. foreign assistance"
   ]
  },
  {
   "cell_type": "markdown",
   "id": "e2b8f153",
   "metadata": {},
   "source": [
    "What drew you to this topic, or why did you choose it?"
   ]
  },
  {
   "cell_type": "markdown",
   "id": "359d76a7",
   "metadata": {},
   "source": [
    "I have previously done papers on South Yemen (1967-1991) and Libya and found some interesting anecdotes\n",
    "on foreign assistance. I think it would be interesting to examine U.S. direct foreign assistance, plus it could be helpful in writing a paper later in my major."
   ]
  },
  {
   "cell_type": "markdown",
   "id": "20048152",
   "metadata": {},
   "source": [
    "## Choose a Data Set\n",
    "\n",
    "Choose a data set to use for the rest of this assignment. The data set doesn't need to be perfect, but ideally it should interest you and be in one of the discussed formats (CSV, TSV, Excel, JSON, .txt). If the data is in another format, either reach out to me to ask about it or choose another data set for this assignment. You may want to look ahead to the rest of this assignment to make sure nothing about the data set will make it difficult to answer the questions or to import the data."
   ]
  },
  {
   "cell_type": "markdown",
   "id": "5e869d8d",
   "metadata": {},
   "source": [
    "What is the name of your data set? Or provide a one-sentence description."
   ]
  },
  {
   "cell_type": "markdown",
   "id": "2ddf052f",
   "metadata": {},
   "source": [
    "\"U.S. Overseas Loans and Grants\" or \"The GreenBook\""
   ]
  },
  {
   "cell_type": "markdown",
   "id": "dc525c3e",
   "metadata": {},
   "source": [
    "What is the URL of the page on which you found the data set? (Paste the full URL.)"
   ]
  },
  {
   "cell_type": "markdown",
   "id": "b7f6a2fa",
   "metadata": {},
   "source": [
    "https://catalog.data.gov/dataset/u-s-overseas-loans-and-grants-greenbook"
   ]
  },
  {
   "cell_type": "markdown",
   "id": "4d16c0fa",
   "metadata": {},
   "source": [
    "## Evaluation\n",
    "\n",
    "In this step, you will evaluate the data to the extent possible without using data science tools like Python or Pandas. You should download the data to your computer, and use both the data set itself as downloaded and the page you found it on to answer these questions. If you can't answer a question, write what you tried to do to answer it—don't give up right away, and try to think of other ways to answer the question. (In some cases, you can even contact the person who created the data set—if you do so, feel free to copy me on the email.)"
   ]
  },
  {
   "cell_type": "markdown",
   "id": "ba3a6174",
   "metadata": {},
   "source": [
    "What is the file format or file extension of the data set? Examples might be .csv (Comma Seperated Values), .tsv (Tab Separated Values), .xlsx (Excel workbook), .txt (plain text file), or JSON (JavaScript Object Notation)."
   ]
  },
  {
   "cell_type": "markdown",
   "id": "d17ed7a7",
   "metadata": {},
   "source": [
    "Excel workbook (.xlsx)"
   ]
  },
  {
   "cell_type": "markdown",
   "id": "6880764f",
   "metadata": {},
   "source": [
    "What is the size in megabytes (MB)or gigabytes (GB) of the data set?"
   ]
  },
  {
   "cell_type": "markdown",
   "id": "621b781a",
   "metadata": {},
   "source": [
    "4.3 megabytes"
   ]
  },
  {
   "cell_type": "markdown",
   "id": "e8ba770e",
   "metadata": {},
   "source": [
    "How many columns or fields is the data set? (Columns or fields are different types of data—for example, a book dataset might have title, author, and year as columns.)"
   ]
  },
  {
   "cell_type": "markdown",
   "id": "41ed02fa",
   "metadata": {},
   "source": [
    "9 columns"
   ]
  },
  {
   "cell_type": "markdown",
   "id": "747cbbcb",
   "metadata": {},
   "source": [
    "List out the columns in the data set. (You can put each column on a line, or you can separate the columns with commas.)"
   ]
  },
  {
   "cell_type": "markdown",
   "id": "a63d096c",
   "metadata": {},
   "source": [
    "Fiscal Year, Region, Country, Assistance Category, Publication Row, Funding Agency, Funding Account Name, Obligations (Historical Dollars), Obligations (Constant Dollars)"
   ]
  },
  {
   "cell_type": "markdown",
   "id": "799b491b",
   "metadata": {},
   "source": [
    "How many rows is the data set? (To use the book data set example again, each row might represent one book.)"
   ]
  },
  {
   "cell_type": "markdown",
   "id": "05e6b9ae",
   "metadata": {},
   "source": [
    "72,644 rows"
   ]
  },
  {
   "cell_type": "markdown",
   "id": "9b82706b",
   "metadata": {},
   "source": [
    "What types of data appear in the data set? (You can use Python terms, like \"integer,\" \"float,\" \"boolean,\" \"string,\" or you can use other descriptive terms, like \"numeric data\" or \"text data.\" Try to be as comprehensive as possible in your answer."
   ]
  },
  {
   "cell_type": "markdown",
   "id": "bded6448",
   "metadata": {},
   "source": [
    "numeric (dollars), qualitative (category of assistance, country, funding agency), and chronological (year the $ was allocated) data."
   ]
  },
  {
   "cell_type": "markdown",
   "id": "ae154ab5",
   "metadata": {},
   "source": [
    "On initial inspection, does anything appear to be missing or wrong in the data set? (Don't spend too long on this.)"
   ]
  },
  {
   "cell_type": "markdown",
   "id": "89d2e870",
   "metadata": {},
   "source": [
    "Not that I can see"
   ]
  },
  {
   "cell_type": "markdown",
   "id": "30d0ccf4",
   "metadata": {},
   "source": [
    "What kinds of questions could you answer with this data set? In answering this question, write at least one paragraph of at least 150 words."
   ]
  },
  {
   "cell_type": "markdown",
   "id": "ed19997b",
   "metadata": {},
   "source": [
    "Because of the role of the U.S. in global affairs, the amount of questions that this data set could answer are many. How much money does the U.S. provide in economic or military assistance? Which countries receive more military assistance? Does U.S. military/economic assistance trend more towards one country or region in the world? Has economic or military assistance increased over the years? Are there years in which military or economic assistance dipped or spiked? Has the way assistance is allocated shifted between departments? The data set can't provide reasons as to why changes have occured alone, but when examining the data, it can be easier to view historical trends and make inferences as to why spending changed. For example, in my paper about Libya, it would be fascinating to see how U.S. assistance changed through the political developments in the country (like the coup in 1969 for example, or the murder of Qaddafi in 2011). Did the U.S. previously provide military or economic aid that stopped, decreased, or increased after the 1969 revolution? Did the aid increase, start, stop, or decrease in 2011? This could be quite valuable for analysing the role of U.S. economic and military aid in the world or in a particular country. "
   ]
  },
  {
   "cell_type": "markdown",
   "id": "5fbbecb7",
   "metadata": {},
   "source": [
    "Do you see any issues or limitations with the data set? Alternatively, what do you wish was included in the data set that is not included? (Write at least one paragraph of at least 150 words.)"
   ]
  },
  {
   "cell_type": "markdown",
   "id": "e4ab6eff",
   "metadata": {},
   "source": [
    "The first thing I noticed was that Yemen is combined into one country even during the years that it was split in two (1967-1991). This would make more insightful analysis on U.S. assistance to South Yemen during these years particularly difficult without more details (which are not included in the dataset). I assume this is true of more countries which either have had competing governments or were not consistent with the state they are in now. Additionally, some of the historical data is not complete. The publication row and funding agency columns are missing some of the data, instead filling it with \"unknown\" or \"inactive programs\". I wish they had done more research to determine the funding agencies as I'm almost certain there are documents that would reveal this. I also wish they had listed the inactive programs instead of just listing \"inactive programs\", because it might still be relevant to see what programs the funding was listed under to determine the role of those programs at the time. Additionally, it is missing the greater context of world history so the data can't be necessarily connected to broader trends, though this is a limitation of many/most datasets. "
   ]
  },
  {
   "cell_type": "markdown",
   "id": "18f10308",
   "metadata": {},
   "source": [
    "## Reading the Data in Python\n",
    "\n",
    "Using as many cells as you need in the rest of this notebook, load the data into Python. You will probably want to use Pandas to load the data. Some example code is provided for you below. \n",
    "\n",
    "To use the example code in a Jupyter Notebook on your computer, you will need to make sure your data set is in the same folder as your notebook, and that you get the filename *exactly* right, including the extension. Here is example code for a Jupyter Notebook—this is just to get you started, and you are responsible for getting this working, which may involve looking up how to import data using Python and Pandas on Google.\n",
    "\n",
    "```python\n",
    "import pandas\n",
    "\n",
    "df = pandas.read_csv('name_of_data_file.csv')\n",
    "\n",
    "df\n",
    "```\n",
    "\n",
    "If your data is in another format, you will need to use the Pandas function related to that format. For example, to import JSON:\n",
    "\n",
    "```python\n",
    "import pandas\n",
    "\n",
    "df = pandas.read_json('name_of_data_file.json')\n",
    "\n",
    "df\n",
    "```\n",
    "\n",
    "Use as much space as you need below to import the file into Pandas (as above). Make sure the dataframe (df) is shown as an output at the end.\n"
   ]
  },
  {
   "cell_type": "code",
   "execution_count": 6,
   "id": "96b0db41",
   "metadata": {},
   "outputs": [],
   "source": [
    "import pandas as pd\n"
   ]
  },
  {
   "cell_type": "code",
   "execution_count": 10,
   "id": "5eb01ced",
   "metadata": {},
   "outputs": [],
   "source": [
    "df = pd.read_excel(\"/Users/lucaslarsen/Documents/CCNY Python Portfolio/foundations-of-data-science/assignments/greenbookUS.xlsx\")"
   ]
  },
  {
   "cell_type": "markdown",
   "id": "e301732b-727a-4bf6-b00b-28bb4ccee242",
   "metadata": {},
   "source": [
    "I believe the format of the excel spreadsheet is causing some problems with the ability of pandas to read the document. There is a \"header\" with 'U.S. Economic and Military Assistance Fiscal Years 1946-2019' as the first line, which has seemingly been picked up as the first header. \n"
   ]
  },
  {
   "cell_type": "code",
   "execution_count": 9,
   "id": "dae44fac",
   "metadata": {
    "scrolled": true
   },
   "outputs": [
    {
     "data": {
      "text/html": [
       "<div>\n",
       "<style scoped>\n",
       "    .dataframe tbody tr th:only-of-type {\n",
       "        vertical-align: middle;\n",
       "    }\n",
       "\n",
       "    .dataframe tbody tr th {\n",
       "        vertical-align: top;\n",
       "    }\n",
       "\n",
       "    .dataframe thead th {\n",
       "        text-align: right;\n",
       "    }\n",
       "</style>\n",
       "<table border=\"1\" class=\"dataframe\">\n",
       "  <thead>\n",
       "    <tr style=\"text-align: right;\">\n",
       "      <th></th>\n",
       "      <th>Fiscal Year</th>\n",
       "      <th>Region</th>\n",
       "      <th>Country</th>\n",
       "      <th>Assistance Category</th>\n",
       "      <th>Publication Row</th>\n",
       "      <th>Funding Agency</th>\n",
       "      <th>Funding Account Name</th>\n",
       "      <th>Obligations (Historical Dollars)</th>\n",
       "      <th>Obligations (Constant Dollars)</th>\n",
       "    </tr>\n",
       "  </thead>\n",
       "  <tbody>\n",
       "    <tr>\n",
       "      <th>0</th>\n",
       "      <td>1946.0</td>\n",
       "      <td>Middle East and North Africa</td>\n",
       "      <td>Egypt</td>\n",
       "      <td>Economic</td>\n",
       "      <td>Inactive Programs</td>\n",
       "      <td>Unknown - Historical Greenbook</td>\n",
       "      <td>INACTIVE - US Surplus Property</td>\n",
       "      <td>9.300000e+06</td>\n",
       "      <td>1.000840e+08</td>\n",
       "    </tr>\n",
       "    <tr>\n",
       "      <th>1</th>\n",
       "      <td>1946.0</td>\n",
       "      <td>Middle East and North Africa</td>\n",
       "      <td>Egypt</td>\n",
       "      <td>Economic</td>\n",
       "      <td>Inactive Programs</td>\n",
       "      <td>Unknown - Historical Greenbook</td>\n",
       "      <td>INACTIVE - UN Relif and Rehab Agency (UNRRA)</td>\n",
       "      <td>3.000000e+05</td>\n",
       "      <td>3.228517e+06</td>\n",
       "    </tr>\n",
       "    <tr>\n",
       "      <th>2</th>\n",
       "      <td>1946.0</td>\n",
       "      <td>Middle East and North Africa</td>\n",
       "      <td>Iran</td>\n",
       "      <td>Economic</td>\n",
       "      <td>Inactive Programs</td>\n",
       "      <td>Unknown - Historical Greenbook</td>\n",
       "      <td>INACTIVE - US Surplus Property</td>\n",
       "      <td>3.300000e+06</td>\n",
       "      <td>3.551368e+07</td>\n",
       "    </tr>\n",
       "    <tr>\n",
       "      <th>3</th>\n",
       "      <td>1946.0</td>\n",
       "      <td>Middle East and North Africa</td>\n",
       "      <td>Lebanon</td>\n",
       "      <td>Economic</td>\n",
       "      <td>Inactive Programs</td>\n",
       "      <td>Unknown - Historical Greenbook</td>\n",
       "      <td>INACTIVE - US Surplus Property</td>\n",
       "      <td>1.600000e+06</td>\n",
       "      <td>1.721876e+07</td>\n",
       "    </tr>\n",
       "    <tr>\n",
       "      <th>4</th>\n",
       "      <td>1946.0</td>\n",
       "      <td>Middle East and North Africa</td>\n",
       "      <td>Saudi Arabia</td>\n",
       "      <td>Economic</td>\n",
       "      <td>Inactive Programs</td>\n",
       "      <td>Department of the Treasury</td>\n",
       "      <td>INACTIVE - Lend Lease Silver</td>\n",
       "      <td>2.400000e+06</td>\n",
       "      <td>2.582813e+07</td>\n",
       "    </tr>\n",
       "    <tr>\n",
       "      <th>...</th>\n",
       "      <td>...</td>\n",
       "      <td>...</td>\n",
       "      <td>...</td>\n",
       "      <td>...</td>\n",
       "      <td>...</td>\n",
       "      <td>...</td>\n",
       "      <td>...</td>\n",
       "      <td>...</td>\n",
       "      <td>...</td>\n",
       "    </tr>\n",
       "    <tr>\n",
       "      <th>72632</th>\n",
       "      <td>2019.0</td>\n",
       "      <td>World</td>\n",
       "      <td>World (not specified)</td>\n",
       "      <td>Military</td>\n",
       "      <td>Foreign Military Financing</td>\n",
       "      <td>Department of State</td>\n",
       "      <td>Foreign Military Financing Program</td>\n",
       "      <td>1.976689e+06</td>\n",
       "      <td>1.976689e+06</td>\n",
       "    </tr>\n",
       "    <tr>\n",
       "      <th>72633</th>\n",
       "      <td>2019.0</td>\n",
       "      <td>World</td>\n",
       "      <td>World (not specified)</td>\n",
       "      <td>Military</td>\n",
       "      <td>International Military Education and Training</td>\n",
       "      <td>Department of State</td>\n",
       "      <td>International Military Education and Training</td>\n",
       "      <td>3.635807e+06</td>\n",
       "      <td>3.635807e+06</td>\n",
       "    </tr>\n",
       "    <tr>\n",
       "      <th>72634</th>\n",
       "      <td>2019.0</td>\n",
       "      <td>World</td>\n",
       "      <td>World (not specified)</td>\n",
       "      <td>Military</td>\n",
       "      <td>Peace Keeping Operations</td>\n",
       "      <td>Department of State</td>\n",
       "      <td>Peace Keeping Operations</td>\n",
       "      <td>1.147500e+08</td>\n",
       "      <td>1.147500e+08</td>\n",
       "    </tr>\n",
       "    <tr>\n",
       "      <th>72635</th>\n",
       "      <td>2019.0</td>\n",
       "      <td>World</td>\n",
       "      <td>World (not specified)</td>\n",
       "      <td>Military</td>\n",
       "      <td>Other Military Assistance</td>\n",
       "      <td>Department of Defense</td>\n",
       "      <td>Operation and Maintenance, Air Force</td>\n",
       "      <td>3.000000e+06</td>\n",
       "      <td>3.000000e+06</td>\n",
       "    </tr>\n",
       "    <tr>\n",
       "      <th>72636</th>\n",
       "      <td>2019.0</td>\n",
       "      <td>World</td>\n",
       "      <td>World (not specified)</td>\n",
       "      <td>Military</td>\n",
       "      <td>Other Military Assistance</td>\n",
       "      <td>Department of Defense</td>\n",
       "      <td>Operation and Maintenance, Defense-Wide</td>\n",
       "      <td>3.979332e+07</td>\n",
       "      <td>3.979332e+07</td>\n",
       "    </tr>\n",
       "  </tbody>\n",
       "</table>\n",
       "<p>72637 rows × 9 columns</p>\n",
       "</div>"
      ],
      "text/plain": [
       "       Fiscal Year                        Region                Country  \\\n",
       "0           1946.0  Middle East and North Africa                  Egypt   \n",
       "1           1946.0  Middle East and North Africa                  Egypt   \n",
       "2           1946.0  Middle East and North Africa                   Iran   \n",
       "3           1946.0  Middle East and North Africa                Lebanon   \n",
       "4           1946.0  Middle East and North Africa           Saudi Arabia   \n",
       "...            ...                           ...                    ...   \n",
       "72632       2019.0                         World  World (not specified)   \n",
       "72633       2019.0                         World  World (not specified)   \n",
       "72634       2019.0                         World  World (not specified)   \n",
       "72635       2019.0                         World  World (not specified)   \n",
       "72636       2019.0                         World  World (not specified)   \n",
       "\n",
       "      Assistance Category                                Publication Row  \\\n",
       "0                Economic                              Inactive Programs   \n",
       "1                Economic                              Inactive Programs   \n",
       "2                Economic                              Inactive Programs   \n",
       "3                Economic                              Inactive Programs   \n",
       "4                Economic                              Inactive Programs   \n",
       "...                   ...                                            ...   \n",
       "72632            Military                     Foreign Military Financing   \n",
       "72633            Military  International Military Education and Training   \n",
       "72634            Military                       Peace Keeping Operations   \n",
       "72635            Military                      Other Military Assistance   \n",
       "72636            Military                      Other Military Assistance   \n",
       "\n",
       "                       Funding Agency  \\\n",
       "0      Unknown - Historical Greenbook   \n",
       "1      Unknown - Historical Greenbook   \n",
       "2      Unknown - Historical Greenbook   \n",
       "3      Unknown - Historical Greenbook   \n",
       "4          Department of the Treasury   \n",
       "...                               ...   \n",
       "72632             Department of State   \n",
       "72633             Department of State   \n",
       "72634             Department of State   \n",
       "72635           Department of Defense   \n",
       "72636           Department of Defense   \n",
       "\n",
       "                                Funding Account Name  \\\n",
       "0                     INACTIVE - US Surplus Property   \n",
       "1       INACTIVE - UN Relif and Rehab Agency (UNRRA)   \n",
       "2                     INACTIVE - US Surplus Property   \n",
       "3                     INACTIVE - US Surplus Property   \n",
       "4                       INACTIVE - Lend Lease Silver   \n",
       "...                                              ...   \n",
       "72632             Foreign Military Financing Program   \n",
       "72633  International Military Education and Training   \n",
       "72634                       Peace Keeping Operations   \n",
       "72635           Operation and Maintenance, Air Force   \n",
       "72636        Operation and Maintenance, Defense-Wide   \n",
       "\n",
       "       Obligations (Historical Dollars)  Obligations (Constant Dollars)  \n",
       "0                          9.300000e+06                    1.000840e+08  \n",
       "1                          3.000000e+05                    3.228517e+06  \n",
       "2                          3.300000e+06                    3.551368e+07  \n",
       "3                          1.600000e+06                    1.721876e+07  \n",
       "4                          2.400000e+06                    2.582813e+07  \n",
       "...                                 ...                             ...  \n",
       "72632                      1.976689e+06                    1.976689e+06  \n",
       "72633                      3.635807e+06                    3.635807e+06  \n",
       "72634                      1.147500e+08                    1.147500e+08  \n",
       "72635                      3.000000e+06                    3.000000e+06  \n",
       "72636                      3.979332e+07                    3.979332e+07  \n",
       "\n",
       "[72637 rows x 9 columns]"
      ]
     },
     "execution_count": 9,
     "metadata": {},
     "output_type": "execute_result"
    }
   ],
   "source": [
    "df"
   ]
  },
  {
   "cell_type": "code",
   "execution_count": null,
   "id": "cdccdea5-99a2-45e6-b739-22e12f6cc74b",
   "metadata": {},
   "outputs": [],
   "source": []
  },
  {
   "cell_type": "code",
   "execution_count": null,
   "id": "9889e003-266f-40b6-b240-7ba6a0652874",
   "metadata": {},
   "outputs": [],
   "source": []
  }
 ],
 "metadata": {
  "kernelspec": {
   "display_name": "Python 3 (ipykernel)",
   "language": "python",
   "name": "python3"
  },
  "language_info": {
   "codemirror_mode": {
    "name": "ipython",
    "version": 3
   },
   "file_extension": ".py",
   "mimetype": "text/x-python",
   "name": "python",
   "nbconvert_exporter": "python",
   "pygments_lexer": "ipython3",
   "version": "3.12.4"
  }
 },
 "nbformat": 4,
 "nbformat_minor": 5
}
