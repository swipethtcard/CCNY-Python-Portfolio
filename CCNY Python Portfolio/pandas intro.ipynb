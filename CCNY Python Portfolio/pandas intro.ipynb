{
 "cells": [
  {
   "cell_type": "code",
   "execution_count": 37,
   "id": "380ff5d7-cfad-41fc-8420-daa3735189e2",
   "metadata": {},
   "outputs": [],
   "source": [
    "# We imported the pandas library"
   ]
  },
  {
   "cell_type": "code",
   "execution_count": 1,
   "id": "4611a69f-dabf-4db8-8628-aa02f4e87c66",
   "metadata": {},
   "outputs": [],
   "source": [
    "import pandas as pd"
   ]
  },
  {
   "cell_type": "markdown",
   "id": "1f76520f-42a6-4e1a-9c4e-07e9c417179f",
   "metadata": {},
   "source": [
    "- First we create a 'student_data' variable\n",
    "- then we create a 'column' variable\n",
    "- lastly we create the 'students' database"
   ]
  },
  {
   "cell_type": "code",
   "execution_count": null,
   "id": "d64410fe-1704-48cb-9a08-c24ca6ba5518",
   "metadata": {},
   "outputs": [],
   "source": [
    "student_data = [[1,15],[2,11],[3,11],[4,20]]"
   ]
  },
  {
   "cell_type": "code",
   "execution_count": 5,
   "id": "abc7177e-3ff9-41e4-8376-8f7883fe0507",
   "metadata": {},
   "outputs": [
    {
     "data": {
      "text/plain": [
       "list"
      ]
     },
     "execution_count": 5,
     "metadata": {},
     "output_type": "execute_result"
    }
   ],
   "source": [
    "type(student_data)"
   ]
  },
  {
   "cell_type": "code",
   "execution_count": 23,
   "id": "2902bcd8-9875-4abf-8ef5-5c8ffd680815",
   "metadata": {},
   "outputs": [],
   "source": [
    "columns = ['Student ID','Age']"
   ]
  },
  {
   "cell_type": "code",
   "execution_count": 15,
   "id": "d90bc6aa-2114-4692-95bb-8ab2673194cd",
   "metadata": {},
   "outputs": [
    {
     "data": {
      "text/plain": [
       "list"
      ]
     },
     "execution_count": 15,
     "metadata": {},
     "output_type": "execute_result"
    }
   ],
   "source": [
    "type(columns)"
   ]
  },
  {
   "cell_type": "code",
   "execution_count": 25,
   "id": "b1f06a15-854e-4085-9b4b-02b153c582cf",
   "metadata": {},
   "outputs": [],
   "source": [
    "students = pd.DataFrame(data=student_data, columns=columns)"
   ]
  },
  {
   "cell_type": "code",
   "execution_count": 58,
   "id": "eb0d555e-63a5-477c-b7c9-594c01f3acdf",
   "metadata": {},
   "outputs": [
    {
     "data": {
      "text/html": [
       "<div>\n",
       "<style scoped>\n",
       "    .dataframe tbody tr th:only-of-type {\n",
       "        vertical-align: middle;\n",
       "    }\n",
       "\n",
       "    .dataframe tbody tr th {\n",
       "        vertical-align: top;\n",
       "    }\n",
       "\n",
       "    .dataframe thead th {\n",
       "        text-align: right;\n",
       "    }\n",
       "</style>\n",
       "<table border=\"1\" class=\"dataframe\">\n",
       "  <thead>\n",
       "    <tr style=\"text-align: right;\">\n",
       "      <th></th>\n",
       "      <th>Student ID</th>\n",
       "      <th>Age</th>\n",
       "    </tr>\n",
       "  </thead>\n",
       "  <tbody>\n",
       "    <tr>\n",
       "      <th>0</th>\n",
       "      <td>1</td>\n",
       "      <td>15</td>\n",
       "    </tr>\n",
       "    <tr>\n",
       "      <th>1</th>\n",
       "      <td>2</td>\n",
       "      <td>11</td>\n",
       "    </tr>\n",
       "    <tr>\n",
       "      <th>2</th>\n",
       "      <td>3</td>\n",
       "      <td>11</td>\n",
       "    </tr>\n",
       "    <tr>\n",
       "      <th>3</th>\n",
       "      <td>4</td>\n",
       "      <td>20</td>\n",
       "    </tr>\n",
       "  </tbody>\n",
       "</table>\n",
       "</div>"
      ],
      "text/plain": [
       "   Student ID  Age\n",
       "0           1   15\n",
       "1           2   11\n",
       "2           3   11\n",
       "3           4   20"
      ]
     },
     "execution_count": 58,
     "metadata": {},
     "output_type": "execute_result"
    }
   ],
   "source": [
    "students"
   ]
  },
  {
   "cell_type": "markdown",
   "id": "b581a579-6188-4a5a-9b85-c03fae87d579",
   "metadata": {},
   "source": [
    "## We're now going to count how many rows and columns our dataset has"
   ]
  },
  {
   "cell_type": "code",
   "execution_count": 60,
   "id": "56bff5ee-e04c-4db1-b3ad-548d8b40f74e",
   "metadata": {},
   "outputs": [],
   "source": [
    "rows = len(students) #len is a function that returns\n",
    "                      #the length of what's inside"
   ]
  },
  {
   "cell_type": "code",
   "execution_count": 62,
   "id": "48ac12b3-40ce-4b79-a222-3020286f0cb0",
   "metadata": {},
   "outputs": [
    {
     "name": "stdout",
     "output_type": "stream",
     "text": [
      "the students dataset has 4 rows\n"
     ]
    }
   ],
   "source": [
    "print(f\"the students dataset has {rows} rows\")"
   ]
  },
  {
   "cell_type": "code",
   "execution_count": 64,
   "id": "d80512c3-3057-4306-b21a-aacbe2bac1a6",
   "metadata": {},
   "outputs": [
    {
     "data": {
      "text/plain": [
       "pandas.core.frame.DataFrame"
      ]
     },
     "execution_count": 64,
     "metadata": {},
     "output_type": "execute_result"
    }
   ],
   "source": [
    "type(students)"
   ]
  },
  {
   "cell_type": "code",
   "execution_count": 70,
   "id": "205d0529-60a7-40cd-9ad6-533428c568ae",
   "metadata": {},
   "outputs": [],
   "source": [
    "student_columns=len(students.columns)"
   ]
  },
  {
   "cell_type": "code",
   "execution_count": 72,
   "id": "0eff55c4-4578-4814-ada7-e18e769867d0",
   "metadata": {},
   "outputs": [
    {
     "name": "stdout",
     "output_type": "stream",
     "text": [
      "The students dataset has 2 columns\n"
     ]
    }
   ],
   "source": [
    "print(f\"The students dataset has {student_columns} columns\")"
   ]
  },
  {
   "cell_type": "markdown",
   "id": "d36c67ed-a5c7-4173-8b04-17f534777f9b",
   "metadata": {},
   "source": [
    "## Checkpoint\n",
    "2. We imported Pandas\n",
    "3. We created a 'students' dataset\n",
    "4. we counted how man rows and columns are in the 'students' dataset"
   ]
  },
  {
   "cell_type": "code",
   "execution_count": null,
   "id": "62be5f6a-591d-4fcc-b8ce-e8e00cdb5716",
   "metadata": {},
   "outputs": [],
   "source": []
  }
 ],
 "metadata": {
  "kernelspec": {
   "display_name": "Python 3 (ipykernel)",
   "language": "python",
   "name": "python3"
  },
  "language_info": {
   "codemirror_mode": {
    "name": "ipython",
    "version": 3
   },
   "file_extension": ".py",
   "mimetype": "text/x-python",
   "name": "python",
   "nbconvert_exporter": "python",
   "pygments_lexer": "ipython3",
   "version": "3.12.4"
  }
 },
 "nbformat": 4,
 "nbformat_minor": 5
}
