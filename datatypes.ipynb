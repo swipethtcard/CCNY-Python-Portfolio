{
 "cells": [
  {
   "cell_type": "markdown",
   "metadata": {},
   "source": [
    "# In-class activity"
   ]
  },
  {
   "cell_type": "markdown",
   "metadata": {},
   "source": [
    "## Strings and variables"
   ]
  },
  {
   "cell_type": "code",
   "execution_count": 1,
   "metadata": {},
   "outputs": [],
   "source": [
    "favorite_food = \"pizza\"\n"
   ]
  },
  {
   "cell_type": "markdown",
   "metadata": {},
   "source": [
    "Create a new variable called **second_favorite_food** and add it into the print statement below (replace ... with the second_favorite_food variable).   "
   ]
  },
  {
   "cell_type": "code",
   "execution_count": 16,
   "metadata": {},
   "outputs": [
    {
     "name": "stdout",
     "output_type": "stream",
     "text": [
      "pizza\n"
     ]
    }
   ],
   "source": [
    "favorite_food = \"pizza\"\n",
    "print (favorite_food)"
   ]
  },
  {
   "cell_type": "markdown",
   "metadata": {},
   "source": [
    "## f Strings"
   ]
  },
  {
   "cell_type": "code",
   "execution_count": null,
   "metadata": {},
   "outputs": [],
   "source": [
    "print(f\"My favorite food is {favorite_food}, but I also love ...!\")"
   ]
  },
  {
   "cell_type": "markdown",
   "metadata": {},
   "source": [
    "## Getting to know your partner"
   ]
  },
  {
   "cell_type": "code",
   "execution_count": 7,
   "metadata": {},
   "outputs": [],
   "source": [
    "name = \"Lucas\"\n",
    "age = 22\n",
    "home_town = \"The Bronx\"\n",
    "favorite_food = \"Pizza\"\n",
    "dog_years_age = age * 7.5\n",
    "student = True\n",
    "age_diff = 32 - age\n",
    "favorite_movie = \"Moonlight\""
   ]
  },
  {
   "cell_type": "markdown",
   "metadata": {},
   "source": [
    "You will run into an error here... Try to identify what the error is and how to fix it."
   ]
  },
  {
   "cell_type": "code",
   "execution_count": 13,
   "metadata": {},
   "outputs": [
    {
     "name": "stdout",
     "output_type": "stream",
     "text": [
      "✨This is...Lucas!✨\n",
      "Lucas likes Pizza and once lived in The Bronx. Lucas is 22 years old, which is 165.0 in dog years. The statement \"Lucas is a student\" is True. Di is 10 years older than Lucas. His favorite movie is Moonlight\n"
     ]
    }
   ],
   "source": [
    "print(f'✨This is...{name}!✨')\n",
    "\n",
    "print(f\"\"\"{name} likes {favorite_food} and once lived in {home_town}. {name} is {age} years old, which is {dog_years_age} in dog years. The statement \"{name} is a student\" is {student}. Di is {age_diff} years older than {name}. His favorite movie is {favorite_movie}\"\"\")"
   ]
  },
  {
   "cell_type": "code",
   "execution_count": null,
   "metadata": {},
   "outputs": [],
   "source": []
  },
  {
   "cell_type": "code",
   "execution_count": null,
   "metadata": {},
   "outputs": [],
   "source": []
  }
 ],
 "metadata": {
  "kernelspec": {
   "display_name": "Python 3 (ipykernel)",
   "language": "python",
   "name": "python3"
  },
  "language_info": {
   "codemirror_mode": {
    "name": "ipython",
    "version": 3
   },
   "file_extension": ".py",
   "mimetype": "text/x-python",
   "name": "python",
   "nbconvert_exporter": "python",
   "pygments_lexer": "ipython3",
   "version": "3.12.4"
  }
 },
 "nbformat": 4,
 "nbformat_minor": 4
}
